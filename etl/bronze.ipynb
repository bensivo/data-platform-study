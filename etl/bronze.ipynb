{
 "cells": [
  {
   "cell_type": "markdown",
   "id": "820149dc-48f1-4595-9c6c-4edee32d0199",
   "metadata": {},
   "source": [
    "# bronze.ipynb\n",
    "Ingests data from the raw folder into bronze iceberg tables"
   ]
  },
  {
   "cell_type": "code",
   "execution_count": 1,
   "id": "60edd9db-aa81-4c7f-9d7c-8091f6e98d22",
   "metadata": {},
   "outputs": [],
   "source": [
    "from pyspark.sql import SparkSession\n",
    "from spark_config import spark_config_bronze, spark_config_minio"
   ]
  },
  {
   "cell_type": "code",
   "execution_count": 2,
   "id": "fb52086c-b16e-4898-8254-14f8b459d09a",
   "metadata": {},
   "outputs": [],
   "source": [
    "# Stop any existing spark sessions, from previous jupyter runs\n",
    "spark = SparkSession.builder.getOrCreate()\n",
    "spark.stop()\n",
    "\n",
    "# Create a new spark session\n",
    "builder = SparkSession.builder\n",
    "builder.appName(\"bronze\")\n",
    "builder.master(\"spark://spark-master:7077\")\n",
    "\n",
    "# Apply common spark configs, for the bronze catalog and access to minio\n",
    "spark_config_minio(builder)\n",
    "spark_config_bronze(builder)\n",
    "\n",
    "spark = builder.getOrCreate()"
   ]
  },
  {
   "cell_type": "code",
   "execution_count": 3,
   "id": "16bb35ec-2a63-4bc2-9fff-fe7e3566bb96",
   "metadata": {},
   "outputs": [
    {
     "data": {
      "text/plain": [
       "DataFrame[]"
      ]
     },
     "execution_count": 3,
     "metadata": {},
     "output_type": "execute_result"
    }
   ],
   "source": [
    "spark.sql(f\"\"\"\n",
    "    CREATE SCHEMA IF NOT EXISTS bronze.data_platform_example\n",
    "    LOCATION 's3a://bronze/data_platform_example'\n",
    "\"\"\")"
   ]
  },
  {
   "cell_type": "code",
   "execution_count": 4,
   "id": "a7a39ada-42cf-4b42-a40c-ed438ba758b9",
   "metadata": {},
   "outputs": [
    {
     "name": "stderr",
     "output_type": "stream",
     "text": [
      "25/02/27 07:09:28 WARN MetricsConfig: Cannot locate configuration: tried hadoop-metrics2-s3a-file-system.properties,hadoop-metrics2.properties\n",
      "                                                                                "
     ]
    },
    {
     "name": "stdout",
     "output_type": "stream",
     "text": [
      "root\n",
      " |-- metadata: struct (nullable = true)\n",
      " |    |-- name: string (nullable = true)\n",
      " |    |-- timestamp: string (nullable = true)\n",
      " |    |-- version: string (nullable = true)\n",
      " |-- payload: struct (nullable = true)\n",
      " |    |-- browser: string (nullable = true)\n",
      " |    |-- page: string (nullable = true)\n",
      " |    |-- user_name: string (nullable = true)\n",
      "\n",
      "+--------------------+--------------------+\n",
      "|            metadata|             payload|\n",
      "+--------------------+--------------------+\n",
      "|{page_load, 2025-...|{Chrome, /contact...|\n",
      "|{page_load, 2025-...|{NULL, /cart, Tyr...|\n",
      "|{page_load, 2025-...|{Safari, /home, A...|\n",
      "|{page_load, 2025-...|{Safari, /contact...|\n",
      "|{page_load, 2025-...|{Firefox, /home, ...|\n",
      "|{page_load, 2025-...|{Safari, /product...|\n",
      "|{page_load, 2025-...|{Edge, /home, Joh...|\n",
      "|{page_load, 2025-...|{Safari, /home, D...|\n",
      "|{page_load, 2025-...|{Safari, /home, C...|\n",
      "|{page_load, 2025-...|{Edge, /contact, ...|\n",
      "|{page_load, 2025-...|{Edge, /cart, Den...|\n",
      "|{page_load, 2025-...|{NULL, /home, Cry...|\n",
      "|{page_load, 2025-...|{Safari, /product...|\n",
      "|{page_load, 2025-...|{Chrome, /home, D...|\n",
      "|{page_load, 2025-...|{Edge, /home, Mat...|\n",
      "|{page_load, 2025-...|{NULL, /home, Den...|\n",
      "|{page_load, 2025-...|{Edge, /home, Amy...|\n",
      "|{page_load, 2025-...|{Chrome, /product...|\n",
      "|{page_load, 2025-...|{NULL, /contact, ...|\n",
      "|{page_load, 2025-...|{Firefox, /cart, ...|\n",
      "+--------------------+--------------------+\n",
      "only showing top 20 rows\n",
      "\n"
     ]
    }
   ],
   "source": [
    "df = spark.read \\\n",
    "        .option(\"recursiveFileLookup\", \"true\") \\\n",
    "        .json(\"s3a://raw/page_load/v1/\")\n",
    "\n",
    "df.printSchema()\n",
    "df.show()"
   ]
  },
  {
   "cell_type": "code",
   "execution_count": 6,
   "id": "ad13c35e-8bc6-4b58-a7d7-e409438aa9b5",
   "metadata": {},
   "outputs": [
    {
     "name": "stdout",
     "output_type": "stream",
     "text": [
      "Table exists, appending to existing table\n"
     ]
    },
    {
     "name": "stderr",
     "output_type": "stream",
     "text": [
      "                                                                                "
     ]
    }
   ],
   "source": [
    "# \"bronze\" is the name of our catalog, as configured at the top of the file\n",
    "# \"example\" is the name of the database / schema, used for domain separation\n",
    "# \"foobar\" is the name of the iceberg table itself\n",
    "#\n",
    "table_name = \"bronze.data_platform_example.page_load_v1\"\n",
    "\n",
    "table_exists = spark.catalog.tableExists(table_name)\n",
    "if not table_exists:\n",
    "    print(\"Table does not exist, creating new table\")\n",
    "    # If this is our first run ever, the table won't exist, and we need to create it\n",
    "    df.write.format('iceberg').saveAsTable(table_name)\n",
    "else:\n",
    "    # On further runs, we don't want to overwrite the whole table, just add to it\n",
    "    # because this job is meant to be run incrementally.\n",
    "    print(\"Table exists, appending to existing table\")\n",
    "    df.write.format('iceberg').mode('append').saveAsTable(table_name)\n"
   ]
  },
  {
   "cell_type": "code",
   "execution_count": 6,
   "id": "4306240e-1613-4f57-a34b-ac04568d0ea1",
   "metadata": {},
   "outputs": [],
   "source": [
    "spark.stop()"
   ]
  },
  {
   "cell_type": "code",
   "execution_count": null,
   "id": "1aa5dcb7-bece-40b5-9d35-aaf1b16fdf4f",
   "metadata": {},
   "outputs": [],
   "source": []
  }
 ],
 "metadata": {
  "kernelspec": {
   "display_name": "Python 3 (ipykernel)",
   "language": "python",
   "name": "python3"
  },
  "language_info": {
   "codemirror_mode": {
    "name": "ipython",
    "version": 3
   },
   "file_extension": ".py",
   "mimetype": "text/x-python",
   "name": "python",
   "nbconvert_exporter": "python",
   "pygments_lexer": "ipython3",
   "version": "3.11.2"
  }
 },
 "nbformat": 4,
 "nbformat_minor": 5
}
