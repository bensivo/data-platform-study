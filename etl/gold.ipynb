{
 "cells": [
  {
   "cell_type": "markdown",
   "id": "8eaa3f48-21de-4e42-9f3e-ddf519e4848a",
   "metadata": {},
   "source": [
    "# gold.ipynb\n",
    "Calculates business aggregates from our cleaned datasets"
   ]
  },
  {
   "cell_type": "code",
   "execution_count": 1,
   "id": "79476939-33cf-4049-9f6f-6c4d98cb2a39",
   "metadata": {},
   "outputs": [],
   "source": [
    "from pyspark.sql import SparkSession\n",
    "from spark_config import configure_spark_session"
   ]
  },
  {
   "cell_type": "code",
   "execution_count": 2,
   "id": "1c8fdd14-1a80-4c86-9668-a1bd8c4fa262",
   "metadata": {},
   "outputs": [],
   "source": [
    "# Stop any existing spark sessions, from previous jupyter runs\n",
    "spark = SparkSession.builder.getOrCreate()\n",
    "spark.stop()\n",
    "\n",
    "# Create a new spark session\n",
    "builder = SparkSession.builder\n",
    "builder.appName(\"silver\")\n",
    "builder.master(\"spark://spark-master:7077\")\n",
    "\n",
    "# Apply common spark configs, for the nessie catalog and access to minio\n",
    "configure_spark_session(builder)\n",
    "\n",
    "spark = builder.getOrCreate()"
   ]
  },
  {
   "cell_type": "code",
   "execution_count": 5,
   "id": "50a45ab5-3cdd-43a9-a158-75178b7814fc",
   "metadata": {},
   "outputs": [
    {
     "data": {
      "text/plain": [
       "DataFrame[]"
      ]
     },
     "execution_count": 5,
     "metadata": {},
     "output_type": "execute_result"
    }
   ],
   "source": [
    "spark.sql(\"\"\"\n",
    "    CREATE SCHEMA IF NOT EXISTS example.gold\n",
    "    LOCATION 's3a://gold/'\n",
    "\"\"\")"
   ]
  },
  {
   "cell_type": "code",
   "execution_count": 7,
   "id": "8c7d8713-9972-4dfe-ab7f-fe5f1ef67bf7",
   "metadata": {},
   "outputs": [
    {
     "name": "stderr",
     "output_type": "stream",
     "text": [
      "25/04/03 00:51:56 WARN MetricsConfig: Cannot locate configuration: tried hadoop-metrics2-s3a-file-system.properties,hadoop-metrics2.properties\n"
     ]
    },
    {
     "data": {
      "text/plain": [
       "DataFrame[]"
      ]
     },
     "execution_count": 7,
     "metadata": {},
     "output_type": "execute_result"
    }
   ],
   "source": [
    "spark.sql(\"\"\"\n",
    "CREATE TABLE IF NOT EXISTS example.gold.page_loads_per_day (\n",
    "    date TIMESTAMP,\n",
    "    page STRING,\n",
    "    page_load_count INT\n",
    ")\n",
    "USING ICEBERG\n",
    "\"\"\")"
   ]
  },
  {
   "cell_type": "code",
   "execution_count": 10,
   "id": "b740262b-1b07-4027-ab4a-0c272790e602",
   "metadata": {},
   "outputs": [
    {
     "name": "stdout",
     "output_type": "stream",
     "text": [
      "Done\n"
     ]
    }
   ],
   "source": [
    "spark.sql(f\"\"\"\n",
    "INSERT INTO example.gold.page_loads_per_day\n",
    "SELECT\n",
    "  date,\n",
    "  page,\n",
    "  count(*) as page_count\n",
    "FROM (\n",
    "  SELECT\n",
    "    DATE_TRUNC('DAY', event_ts) as date,\n",
    "    page\n",
    "  FROM example.silver.page_load\n",
    ") subquery\n",
    "GROUP BY date, page\n",
    "\"\"\")\n",
    "\n",
    "print('Done')\n"
   ]
  },
  {
   "cell_type": "code",
   "execution_count": 11,
   "id": "7fcabda7-9aef-4065-a5a2-d04520d493b0",
   "metadata": {},
   "outputs": [],
   "source": [
    "spark.stop()"
   ]
  },
  {
   "cell_type": "code",
   "execution_count": null,
   "id": "a2b8192f-ecfc-4505-b7fa-4eb46a32e209",
   "metadata": {},
   "outputs": [],
   "source": []
  }
 ],
 "metadata": {
  "kernelspec": {
   "display_name": "Python 3 (ipykernel)",
   "language": "python",
   "name": "python3"
  },
  "language_info": {
   "codemirror_mode": {
    "name": "ipython",
    "version": 3
   },
   "file_extension": ".py",
   "mimetype": "text/x-python",
   "name": "python",
   "nbconvert_exporter": "python",
   "pygments_lexer": "ipython3",
   "version": "3.11.2"
  }
 },
 "nbformat": 4,
 "nbformat_minor": 5
}
