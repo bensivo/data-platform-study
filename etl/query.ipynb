{
 "cells": [
  {
   "cell_type": "markdown",
   "id": "0ea83a6a-10a8-4f22-9c53-d9f48dac7007",
   "metadata": {},
   "source": [
    "# query.ipynb\n",
    "Playground notebook, for making queries and exploration"
   ]
  },
  {
   "cell_type": "code",
   "execution_count": 1,
   "id": "930a690d-a85d-4f40-982d-d36b0f70ad78",
   "metadata": {},
   "outputs": [],
   "source": [
    "from pyspark.sql import SparkSession\n",
    "from spark_config import configure_spark_session"
   ]
  },
  {
   "cell_type": "code",
   "execution_count": 2,
   "id": "96ca5323-6a4b-4900-ad53-05a3d664a194",
   "metadata": {},
   "outputs": [],
   "source": [
    "# Stop any existing spark sessions, from previous jupyter runs\n",
    "spark = SparkSession.builder.getOrCreate()\n",
    "spark.stop()\n",
    "\n",
    "# Create a new spark session\n",
    "builder = SparkSession.builder\n",
    "builder.appName(\"query\")\n",
    "builder.master(\"spark://spark-master:7077\")\n",
    "\n",
    "configure_spark_session(builder)\n",
    "spark = builder.getOrCreate()"
   ]
  },
  {
   "cell_type": "code",
   "execution_count": 3,
   "id": "d39f55b1-35f6-494b-817a-2083be3a2f0b",
   "metadata": {},
   "outputs": [
    {
     "name": "stderr",
     "output_type": "stream",
     "text": [
      "25/04/03 00:54:26 WARN MetricsConfig: Cannot locate configuration: tried hadoop-metrics2-s3a-file-system.properties,hadoop-metrics2.properties\n",
      "                                                                                "
     ]
    },
    {
     "name": "stdout",
     "output_type": "stream",
     "text": [
      "+--------------------+--------------------+\n",
      "|            metadata|             payload|\n",
      "+--------------------+--------------------+\n",
      "|{page_load, 2025-...|{Firefox, /home, ...|\n",
      "|{page_load, 2025-...|{Firefox, /home, ...|\n",
      "|{page_load, 2025-...|{Chrome, /product...|\n",
      "|{page_load, 2025-...|{Chrome, /cart, G...|\n",
      "|{page_load, 2025-...|{Chrome, /home, C...|\n",
      "|{page_load, 2025-...|{Firefox, /home, ...|\n",
      "|{page_load, 2025-...|{Firefox, /contac...|\n",
      "|{page_load, 2025-...|{Chrome, /about, ...|\n",
      "|{page_load, 2025-...|{Edge, /products,...|\n",
      "|{page_load, 2025-...|{Edge, /home, Pau...|\n",
      "+--------------------+--------------------+\n",
      "\n"
     ]
    }
   ],
   "source": [
    "df = spark.sql(f\"\"\"\n",
    "    SELECT *\n",
    "    FROM example.bronze.page_load_v1 LIMIT 10\n",
    "\"\"\")\n",
    "\n",
    "df.show()"
   ]
  },
  {
   "cell_type": "code",
   "execution_count": 19,
   "id": "ab7f5d50-9665-498b-839a-35343164ea47",
   "metadata": {},
   "outputs": [],
   "source": [
    "spark.stop()"
   ]
  }
 ],
 "metadata": {
  "kernelspec": {
   "display_name": "Python 3 (ipykernel)",
   "language": "python",
   "name": "python3"
  },
  "language_info": {
   "codemirror_mode": {
    "name": "ipython",
    "version": 3
   },
   "file_extension": ".py",
   "mimetype": "text/x-python",
   "name": "python",
   "nbconvert_exporter": "python",
   "pygments_lexer": "ipython3",
   "version": "3.11.2"
  }
 },
 "nbformat": 4,
 "nbformat_minor": 5
}
