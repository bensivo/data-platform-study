{
 "cells": [
  {
   "cell_type": "markdown",
   "id": "0ea83a6a-10a8-4f22-9c53-d9f48dac7007",
   "metadata": {},
   "source": [
    "# query.ipynb\n",
    "Playground notebook, for making queries and exploration"
   ]
  },
  {
   "cell_type": "code",
   "execution_count": 1,
   "id": "930a690d-a85d-4f40-982d-d36b0f70ad78",
   "metadata": {},
   "outputs": [],
   "source": [
    "from pyspark.sql import SparkSession\n",
    "from spark_config import spark_config_bronze, spark_config_silver, spark_config_gold, spark_config_minio"
   ]
  },
  {
   "cell_type": "code",
   "execution_count": 2,
   "id": "96ca5323-6a4b-4900-ad53-05a3d664a194",
   "metadata": {},
   "outputs": [
    {
     "name": "stderr",
     "output_type": "stream",
     "text": [
      "25/02/27 07:11:34 WARN Utils: Service 'SparkUI' could not bind on port 4040. Attempting port 4041.\n"
     ]
    }
   ],
   "source": [
    "# Stop any existing spark sessions, from previous jupyter runs\n",
    "spark = SparkSession.builder.getOrCreate()\n",
    "spark.stop()\n",
    "\n",
    "# Create a new spark session\n",
    "builder = SparkSession.builder\n",
    "builder.appName(\"query\")\n",
    "builder.master(\"spark://spark-master:7077\")\n",
    "\n",
    "spark_config_bronze(builder)\n",
    "spark_config_silver(builder)\n",
    "spark_config_gold(builder)\n",
    "spark_config_minio(builder)\n",
    "\n",
    "spark = builder.getOrCreate()"
   ]
  },
  {
   "cell_type": "code",
   "execution_count": 3,
   "id": "d39f55b1-35f6-494b-817a-2083be3a2f0b",
   "metadata": {},
   "outputs": [
    {
     "name": "stderr",
     "output_type": "stream",
     "text": [
      "25/02/27 07:11:47 WARN MetricsConfig: Cannot locate configuration: tried hadoop-metrics2-s3a-file-system.properties,hadoop-metrics2.properties\n",
      "                                                                                "
     ]
    },
    {
     "name": "stdout",
     "output_type": "stream",
     "text": [
      "+--------------------+--------------------+\n",
      "|            metadata|             payload|\n",
      "+--------------------+--------------------+\n",
      "|{page_load, 2025-...|{Chrome, /contact...|\n",
      "|{page_load, 2025-...|{NULL, /cart, Tyr...|\n",
      "|{page_load, 2025-...|{Safari, /home, A...|\n",
      "|{page_load, 2025-...|{Safari, /contact...|\n",
      "|{page_load, 2025-...|{Firefox, /home, ...|\n",
      "|{page_load, 2025-...|{Safari, /product...|\n",
      "|{page_load, 2025-...|{Edge, /home, Joh...|\n",
      "|{page_load, 2025-...|{Safari, /home, D...|\n",
      "|{page_load, 2025-...|{Safari, /home, C...|\n",
      "|{page_load, 2025-...|{Edge, /contact, ...|\n",
      "+--------------------+--------------------+\n",
      "\n"
     ]
    }
   ],
   "source": [
    "df = spark.sql(f\"\"\"\n",
    "    SELECT *\n",
    "    FROM bronze.data_platform_example.page_load_v1 LIMIT 10\n",
    "\"\"\")\n",
    "\n",
    "df.show()"
   ]
  },
  {
   "cell_type": "code",
   "execution_count": 4,
   "id": "5b6da196-3bba-4095-82cf-e67059bdf49c",
   "metadata": {},
   "outputs": [
    {
     "name": "stdout",
     "output_type": "stream",
     "text": [
      "+---------+-------+--------------------+---------+---------------+-------+\n",
      "|     name|version|           timestamp|     page|      user_name|browser|\n",
      "+---------+-------+--------------------+---------+---------------+-------+\n",
      "|page_load|     v1|2025-02-21T00:11:...| /contact|  Tyrone Turner| Chrome|\n",
      "|page_load|     v1|2025-02-21T00:26:...|    /cart|  Tyrone Turner|   NULL|\n",
      "|page_load|     v1|2025-02-21T17:08:...|    /home|Andrew Stafford| Safari|\n",
      "|page_load|     v1|2025-02-21T22:39:...| /contact|  Cassidy Moody| Safari|\n",
      "|page_load|     v1|2025-02-21T19:27:...|    /home|   Rachel Evans|Firefox|\n",
      "|page_load|     v1|2025-02-21T22:06:...|/products|  Cassidy Moody| Safari|\n",
      "|page_load|     v1|2025-02-21T11:46:...|    /home|   Johnny Stone|   Edge|\n",
      "|page_load|     v1|2025-02-21T14:07:...|    /home|  Dennis Warner| Safari|\n",
      "|page_load|     v1|2025-02-24T15:33:...|    /home|  Cassidy Moody| Safari|\n",
      "|page_load|     v1|2025-02-24T08:17:...| /contact|Andrew Stafford|   Edge|\n",
      "+---------+-------+--------------------+---------+---------------+-------+\n",
      "\n"
     ]
    },
    {
     "name": "stderr",
     "output_type": "stream",
     "text": [
      "25/02/27 07:19:32 ERROR StandaloneSchedulerBackend: Application has been killed. Reason: Master removed our application: KILLED\n",
      "25/02/27 07:19:33 ERROR Inbox: Ignoring error\n",
      "org.apache.spark.SparkException: Exiting due to error from cluster scheduler: Master removed our application: KILLED\n",
      "\tat org.apache.spark.errors.SparkCoreErrors$.clusterSchedulerError(SparkCoreErrors.scala:291)\n",
      "\tat org.apache.spark.scheduler.TaskSchedulerImpl.error(TaskSchedulerImpl.scala:981)\n",
      "\tat org.apache.spark.scheduler.cluster.StandaloneSchedulerBackend.dead(StandaloneSchedulerBackend.scala:165)\n",
      "\tat org.apache.spark.deploy.client.StandaloneAppClient$ClientEndpoint.markDead(StandaloneAppClient.scala:263)\n",
      "\tat org.apache.spark.deploy.client.StandaloneAppClient$ClientEndpoint$$anonfun$receive$1.applyOrElse(StandaloneAppClient.scala:170)\n",
      "\tat org.apache.spark.rpc.netty.Inbox.$anonfun$process$1(Inbox.scala:115)\n",
      "\tat org.apache.spark.rpc.netty.Inbox.safelyCall(Inbox.scala:213)\n",
      "\tat org.apache.spark.rpc.netty.Inbox.process(Inbox.scala:100)\n",
      "\tat org.apache.spark.rpc.netty.MessageLoop.org$apache$spark$rpc$netty$MessageLoop$$receiveLoop(MessageLoop.scala:75)\n",
      "\tat org.apache.spark.rpc.netty.MessageLoop$$anon$1.run(MessageLoop.scala:41)\n",
      "\tat java.base/java.util.concurrent.ThreadPoolExecutor.runWorker(ThreadPoolExecutor.java:1128)\n",
      "\tat java.base/java.util.concurrent.ThreadPoolExecutor$Worker.run(ThreadPoolExecutor.java:628)\n",
      "\tat java.base/java.lang.Thread.run(Thread.java:829)\n"
     ]
    }
   ],
   "source": [
    "df = spark.sql(f\"\"\"\n",
    "   SELECT metadata.name, metadata.version, metadata.timestamp, payload.page, payload.user_name, payload.browser \n",
    "   FROM bronze.data_platform_example.page_load_v1 limit 10\n",
    "\"\"\")\n",
    "\n",
    "df.show()"
   ]
  },
  {
   "cell_type": "code",
   "execution_count": 7,
   "id": "d38bb4a7-84a7-4330-a6d6-eba7d1a13d56",
   "metadata": {},
   "outputs": [
    {
     "name": "stdout",
     "output_type": "stream",
     "text": [
      "+--------+\n",
      "|count(1)|\n",
      "+--------+\n",
      "|    9389|\n",
      "+--------+\n",
      "\n"
     ]
    }
   ],
   "source": [
    "df = spark.sql(f\"\"\"\n",
    "    SELECT COUNT(*)\n",
    "    FROM bronze.data_platform_example.page_load_v1\n",
    "\"\"\")\n",
    "df.show()"
   ]
  },
  {
   "cell_type": "code",
   "execution_count": 8,
   "id": "750c3dd8-255d-4358-98e0-2d73040046fd",
   "metadata": {},
   "outputs": [
    {
     "name": "stdout",
     "output_type": "stream",
     "text": [
      "+----------+-------------+--------------------+---------+--------------------+-------+\n",
      "|event_name|event_version|            event_ts|     page|           user_name|browser|\n",
      "+----------+-------------+--------------------+---------+--------------------+-------+\n",
      "| page_load|           v1|2025-02-09 23:29:...|    /cart|     Jessica Johnson|   Edge|\n",
      "| page_load|           v1|2025-02-14 14:37:...|/products|      Carlos Watkins| Safari|\n",
      "| page_load|           v1|2025-02-14 01:01:...| /contact|   Christopher Adams| Safari|\n",
      "| page_load|           v1|2025-02-13 19:04:...|/products|       Cody Martinez|   Edge|\n",
      "| page_load|           v1|2025-02-13 05:48:...|/checkout|     Erica Wilkinson|   Edge|\n",
      "| page_load|           v1|2025-02-11 13:22:...| /contact|       Adam Stephens|Firefox|\n",
      "| page_load|           v1|2025-02-14 14:36:...|   /about|           Amy Jones| Safari|\n",
      "| page_load|           v1|2025-02-09 16:28:...|    /home|           Amy Jones|Firefox|\n",
      "| page_load|           v1|2025-02-13 11:41:...| /contact|     Andrea Jennings|Firefox|\n",
      "| page_load|           v1|2025-02-11 16:58:...|/checkout|        Christy Paul|   Edge|\n",
      "| page_load|           v1|2025-02-10 22:42:...| /contact|      Brenda Hancock|Firefox|\n",
      "| page_load|           v1|2025-02-14 14:30:...|   /about|        Rhonda Jones|   Edge|\n",
      "| page_load|           v1|2025-02-11 04:40:...|    /home|   Christopher Baker|Firefox|\n",
      "| page_load|           v1|2025-02-23 03:56:...| /contact|       Barbara Baker|Firefox|\n",
      "| page_load|           v1|2025-02-13 09:31:...|    /cart|      Jerry Cummings|Firefox|\n",
      "| page_load|           v1|2025-02-11 08:38:...| /contact|         Jason Quinn|   Edge|\n",
      "| page_load|           v1|2025-02-09 14:35:...|    /cart|Jennifer Wallace DDS|Firefox|\n",
      "| page_load|           v1|2025-02-26 00:52:...|/products|         Laura Lopez|Firefox|\n",
      "| page_load|           v1|2025-02-11 10:58:...| /contact|       Adam Stephens|   Edge|\n",
      "| page_load|           v1|2025-02-08 13:27:...|/checkout|     Maurice Michael| Safari|\n",
      "+----------+-------------+--------------------+---------+--------------------+-------+\n",
      "only showing top 20 rows\n",
      "\n"
     ]
    }
   ],
   "source": [
    "df = spark.sql(f\"\"\"\n",
    "    SELECT *\n",
    "    FROM silver.data_platform_example.page_load\n",
    "\"\"\")\n",
    "df.show()"
   ]
  },
  {
   "cell_type": "code",
   "execution_count": 9,
   "id": "bdb18482-0de6-43c2-a822-a3715d669b65",
   "metadata": {},
   "outputs": [
    {
     "name": "stdout",
     "output_type": "stream",
     "text": [
      "+--------+\n",
      "|count(1)|\n",
      "+--------+\n",
      "|    2527|\n",
      "+--------+\n",
      "\n"
     ]
    }
   ],
   "source": [
    "df = spark.sql(f\"\"\"\n",
    "    SELECT COUNT(*)\n",
    "    FROM silver.data_platform_example.page_load\n",
    "\"\"\")\n",
    "df.show()"
   ]
  },
  {
   "cell_type": "code",
   "execution_count": 18,
   "id": "922b32e8-e037-4746-be80-c044ba5e7384",
   "metadata": {},
   "outputs": [
    {
     "name": "stdout",
     "output_type": "stream",
     "text": [
      "+-------------------+------+---------------+\n",
      "|               date|  page|page_load_count|\n",
      "+-------------------+------+---------------+\n",
      "|2025-02-08 00:00:00|/about|             21|\n",
      "|2025-02-09 00:00:00|/about|             21|\n",
      "|2025-02-10 00:00:00|/about|             25|\n",
      "|2025-02-11 00:00:00|/about|             19|\n",
      "|2025-02-12 00:00:00|/about|             28|\n",
      "|2025-02-13 00:00:00|/about|             20|\n",
      "|2025-02-14 00:00:00|/about|             27|\n",
      "|2025-02-15 00:00:00|/about|              1|\n",
      "|2025-02-20 00:00:00|/about|             14|\n",
      "|2025-02-21 00:00:00|/about|             11|\n",
      "|2025-02-22 00:00:00|/about|             16|\n",
      "|2025-02-23 00:00:00|/about|             17|\n",
      "|2025-02-24 00:00:00|/about|              4|\n",
      "|2025-02-25 00:00:00|/about|             10|\n",
      "|2025-02-26 00:00:00|/about|             14|\n",
      "|2025-02-27 00:00:00|/about|              7|\n",
      "|2025-02-08 00:00:00| /cart|             11|\n",
      "|2025-02-09 00:00:00| /cart|             29|\n",
      "|2025-02-10 00:00:00| /cart|             25|\n",
      "|2025-02-11 00:00:00| /cart|             22|\n",
      "+-------------------+------+---------------+\n",
      "only showing top 20 rows\n",
      "\n"
     ]
    }
   ],
   "source": [
    "df = spark.sql(f\"\"\"\n",
    "    SELECT *\n",
    "    FROM gold.data_platform_example.page_loads_per_day\n",
    "    ORDER BY page, date\n",
    "\"\"\")\n",
    "df.show()"
   ]
  },
  {
   "cell_type": "code",
   "execution_count": 19,
   "id": "ab7f5d50-9665-498b-839a-35343164ea47",
   "metadata": {},
   "outputs": [],
   "source": [
    "spark.stop()"
   ]
  },
  {
   "cell_type": "code",
   "execution_count": null,
   "id": "7d23ceaf-0cea-4b86-ab94-ad1777fb5071",
   "metadata": {},
   "outputs": [],
   "source": []
  }
 ],
 "metadata": {
  "kernelspec": {
   "display_name": "Python 3 (ipykernel)",
   "language": "python",
   "name": "python3"
  },
  "language_info": {
   "codemirror_mode": {
    "name": "ipython",
    "version": 3
   },
   "file_extension": ".py",
   "mimetype": "text/x-python",
   "name": "python",
   "nbconvert_exporter": "python",
   "pygments_lexer": "ipython3",
   "version": "3.11.2"
  }
 },
 "nbformat": 4,
 "nbformat_minor": 5
}
