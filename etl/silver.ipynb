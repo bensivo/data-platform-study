{
 "cells": [
  {
   "cell_type": "markdown",
   "id": "a253ab98-7df4-4785-aee7-adf5c88f32d3",
   "metadata": {},
   "source": [
    "# silver.ipynb\n",
    "Applies cleaning and transformation to the raw data in the bronze layer"
   ]
  },
  {
   "cell_type": "code",
   "execution_count": 1,
   "id": "d5aa86ca-5567-4d8d-99c5-a97e3717cefa",
   "metadata": {},
   "outputs": [],
   "source": [
    "from pyspark.sql import SparkSession\n",
    "from spark_config import spark_config_bronze, spark_config_silver, spark_config_minio"
   ]
  },
  {
   "cell_type": "code",
   "execution_count": 2,
   "id": "b591d937-2ef8-47fe-b8b5-d8f32355b2ba",
   "metadata": {},
   "outputs": [],
   "source": [
    "# Stop any existing spark sessions, from previous jupyter runs\n",
    "spark = SparkSession.builder.getOrCreate()\n",
    "spark.stop()\n",
    "\n",
    "# Create a new spark session\n",
    "builder = SparkSession.builder\n",
    "builder.appName(\"silver\")\n",
    "builder.master(\"spark://spark-master:7077\")\n",
    "\n",
    "# Apply common spark configs, for the bronze catalog and access to minio\n",
    "spark_config_bronze(builder)\n",
    "spark_config_silver(builder)\n",
    "spark_config_minio(builder)\n",
    "\n",
    "spark = builder.getOrCreate()"
   ]
  },
  {
   "cell_type": "code",
   "execution_count": 3,
   "id": "d770b80d-c010-4336-9c79-039161cdec35",
   "metadata": {},
   "outputs": [
    {
     "data": {
      "text/plain": [
       "DataFrame[]"
      ]
     },
     "execution_count": 3,
     "metadata": {},
     "output_type": "execute_result"
    }
   ],
   "source": [
    "spark.sql(\"\"\"\n",
    "    CREATE SCHEMA IF NOT EXISTS silver.data_platform_example\n",
    "    LOCATION 's3a://silver/data_platform_example'\n",
    "\"\"\")"
   ]
  },
  {
   "cell_type": "code",
   "execution_count": 4,
   "id": "183c7ddf-574a-4e6a-af8b-fadef38b92da",
   "metadata": {},
   "outputs": [
    {
     "name": "stderr",
     "output_type": "stream",
     "text": [
      "25/02/27 07:18:36 WARN MetricsConfig: Cannot locate configuration: tried hadoop-metrics2-s3a-file-system.properties,hadoop-metrics2.properties\n"
     ]
    },
    {
     "data": {
      "text/plain": [
       "DataFrame[]"
      ]
     },
     "execution_count": 4,
     "metadata": {},
     "output_type": "execute_result"
    }
   ],
   "source": [
    "spark.sql(\"\"\"\n",
    "CREATE TABLE IF NOT EXISTS silver.data_platform_example.page_load (\n",
    "    event_name STRING,\n",
    "    event_version STRING,\n",
    "    event_ts TIMESTAMP,\n",
    "    page STRING,\n",
    "    user_name STRING,\n",
    "    browser STRING\n",
    ")\n",
    "USING ICEBERG\n",
    "LOCATION 's3a://silver/data_platform_example/page_load'\n",
    "\"\"\")"
   ]
  },
  {
   "cell_type": "code",
   "execution_count": 5,
   "id": "0e62207e-427b-46d4-b34f-2f31b3ef3750",
   "metadata": {},
   "outputs": [
    {
     "name": "stderr",
     "output_type": "stream",
     "text": [
      "                                                                                "
     ]
    },
    {
     "name": "stdout",
     "output_type": "stream",
     "text": [
      "+----------+-------------+--------------------+---------+------------------+-------+\n",
      "|event_name|event_version|            event_ts|     page|         user_name|browser|\n",
      "+----------+-------------+--------------------+---------+------------------+-------+\n",
      "| page_load|           v1|2025-02-20 07:19:...|    /home|     Cassidy Moody|Firefox|\n",
      "| page_load|           v1|2025-02-20 07:19:...|    /home|     Cassidy Moody|Firefox|\n",
      "| page_load|           v1|2025-02-20 07:50:...|    /home|      Steve Walker|Firefox|\n",
      "| page_load|           v1|2025-02-20 07:50:...|    /home|      Steve Walker|Firefox|\n",
      "| page_load|           v1|2025-02-20 08:03:...|    /home|     Denise Turner|Firefox|\n",
      "| page_load|           v1|2025-02-20 08:03:...|    /home|     Denise Turner|Firefox|\n",
      "| page_load|           v1|2025-02-20 08:13:...|    /home|Crystal Richardson| Chrome|\n",
      "| page_load|           v1|2025-02-20 08:13:...|    /home|Crystal Richardson| Chrome|\n",
      "| page_load|           v1|2025-02-20 08:26:...|/products|     Tyrone Turner|   Edge|\n",
      "| page_load|           v1|2025-02-20 08:26:...|/products|     Tyrone Turner|   Edge|\n",
      "| page_load|           v1|2025-02-20 08:35:...|    /home|     Cassidy Moody|   Edge|\n",
      "| page_load|           v1|2025-02-20 08:35:...|    /home|     Cassidy Moody|   Edge|\n",
      "| page_load|           v1|2025-02-20 08:48:...|/products|     Dennis Warner|   Edge|\n",
      "| page_load|           v1|2025-02-20 08:48:...|/products|     Dennis Warner|   Edge|\n",
      "| page_load|           v1|2025-02-20 09:05:...|    /home|     Denise Turner|Firefox|\n",
      "| page_load|           v1|2025-02-20 09:05:...|    /home|     Denise Turner|Firefox|\n",
      "| page_load|           v1|2025-02-20 09:16:...|    /home|     Cassidy Moody| Chrome|\n",
      "| page_load|           v1|2025-02-20 09:16:...|    /home|     Cassidy Moody| Chrome|\n",
      "| page_load|           v1|2025-02-20 09:25:...|    /home|      Steve Walker|   Edge|\n",
      "| page_load|           v1|2025-02-20 09:25:...|    /home|      Steve Walker|   Edge|\n",
      "+----------+-------------+--------------------+---------+------------------+-------+\n",
      "only showing top 20 rows\n",
      "\n"
     ]
    },
    {
     "name": "stderr",
     "output_type": "stream",
     "text": [
      "[Stage 1:==============================================>           (8 + 2) / 10]"
     ]
    },
    {
     "name": "stdout",
     "output_type": "stream",
     "text": [
      "Number of rows 2000\n"
     ]
    },
    {
     "name": "stderr",
     "output_type": "stream",
     "text": [
      "                                                                                "
     ]
    }
   ],
   "source": [
    "# Rename and typecast bronze columns into the silver schema\n",
    "df = spark.sql(f\"\"\"\n",
    "SELECT\n",
    "    metadata.name AS event_name,\n",
    "    metadata.version AS event_version,\n",
    "    CAST(metadata.timestamp AS TIMESTAMP) AS event_ts,\n",
    "    payload.page AS page,\n",
    "    payload.user_name AS user_name,\n",
    "    payload.browser AS browser\n",
    "FROM bronze.data_platform_example.page_load_v1\n",
    "ORDER BY event_ts\n",
    "\"\"\")\n",
    "df.show()\n",
    "print(f\"Number of rows {df.count()}\")"
   ]
  },
  {
   "cell_type": "code",
   "execution_count": 6,
   "id": "9c7ada98-777d-4636-89f9-52a0b0b51982",
   "metadata": {},
   "outputs": [
    {
     "name": "stderr",
     "output_type": "stream",
     "text": [
      "                                                                                "
     ]
    },
    {
     "name": "stdout",
     "output_type": "stream",
     "text": [
      "+----------+-------------+--------------------+---------+------------------+-------+\n",
      "|event_name|event_version|            event_ts|     page|         user_name|browser|\n",
      "+----------+-------------+--------------------+---------+------------------+-------+\n",
      "| page_load|           v1|2025-02-26 14:51:...|    /cart|        Amy Davies|Firefox|\n",
      "| page_load|           v1|2025-02-24 08:17:...| /contact|   Andrew Stafford|   Edge|\n",
      "| page_load|           v1|2025-02-23 05:42:...|   /about|     Cassidy Moody|Firefox|\n",
      "| page_load|           v1|2025-02-22 04:32:...|    /home|      Steve Walker|Firefox|\n",
      "| page_load|           v1|2025-02-21 04:33:...|   /about|     Cassidy Moody| Chrome|\n",
      "| page_load|           v1|2025-02-22 18:53:...|    /home|     Tyrone Turner|   Edge|\n",
      "| page_load|           v1|2025-02-26 19:00:...|/checkout|   Andrew Stafford| Chrome|\n",
      "| page_load|           v1|2025-02-24 03:47:...|    /home|      James Thomas| Safari|\n",
      "| page_load|           v1|2025-02-26 21:19:...|/products| Matthew Underwood|Firefox|\n",
      "| page_load|           v1|2025-02-21 15:14:...|   /about|   Andrew Stafford|   Edge|\n",
      "| page_load|           v1|2025-02-23 03:10:...|    /home|      Rachel Evans| Safari|\n",
      "| page_load|           v1|2025-02-25 22:18:...|    /home|     Denise Turner|Firefox|\n",
      "| page_load|           v1|2025-02-22 19:18:...|    /home|      Steve Walker|   Edge|\n",
      "| page_load|           v1|2025-02-23 21:55:...|    /home|     Tyrone Turner| Chrome|\n",
      "| page_load|           v1|2025-02-25 06:59:...|   /about|      Steve Walker|Firefox|\n",
      "| page_load|           v1|2025-02-26 12:48:...|    /home|Crystal Richardson|Firefox|\n",
      "| page_load|           v1|2025-02-26 15:29:...|    /home|Crystal Richardson| Safari|\n",
      "| page_load|           v1|2025-02-25 02:50:...|    /home|Crystal Richardson| Safari|\n",
      "| page_load|           v1|2025-02-24 12:01:...|    /cart|   Andrew Stafford|   Edge|\n",
      "| page_load|           v1|2025-02-23 19:49:...|/products|     Denise Turner| Safari|\n",
      "+----------+-------------+--------------------+---------+------------------+-------+\n",
      "only showing top 20 rows\n",
      "\n",
      "Number of rows 1000\n"
     ]
    }
   ],
   "source": [
    "# Remove any duplicate rows, because bronze jobs can cause duplication if they process the same file twice\n",
    "df = df.dropDuplicates()\n",
    "df.show()\n",
    "print(f\"Number of rows {df.count()}\")"
   ]
  },
  {
   "cell_type": "code",
   "execution_count": 7,
   "id": "31064e8a-4c47-4c4a-9a31-9f53232f865d",
   "metadata": {},
   "outputs": [],
   "source": [
    "# Write the output to the silver table\n",
    "df.write \\\n",
    "    .format(\"iceberg\") \\\n",
    "    .mode(\"overwrite\") \\\n",
    "    .saveAsTable(\"silver.data_platform_example.page_load\")"
   ]
  },
  {
   "cell_type": "code",
   "execution_count": 8,
   "id": "150433b9-3dbf-43b3-910b-022dfdaebd8e",
   "metadata": {},
   "outputs": [],
   "source": [
    "spark.stop()"
   ]
  },
  {
   "cell_type": "code",
   "execution_count": null,
   "id": "54fb8d67-c09b-4a38-bc2e-4bcd5304d243",
   "metadata": {},
   "outputs": [],
   "source": []
  }
 ],
 "metadata": {
  "kernelspec": {
   "display_name": "Python 3 (ipykernel)",
   "language": "python",
   "name": "python3"
  },
  "language_info": {
   "codemirror_mode": {
    "name": "ipython",
    "version": 3
   },
   "file_extension": ".py",
   "mimetype": "text/x-python",
   "name": "python",
   "nbconvert_exporter": "python",
   "pygments_lexer": "ipython3",
   "version": "3.11.2"
  }
 },
 "nbformat": 4,
 "nbformat_minor": 5
}
