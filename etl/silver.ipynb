{
 "cells": [
  {
   "cell_type": "markdown",
   "id": "a253ab98-7df4-4785-aee7-adf5c88f32d3",
   "metadata": {},
   "source": [
    "# silver.ipynb\n",
    "Applies cleaning and transformation to the raw data in the bronze layer"
   ]
  },
  {
   "cell_type": "code",
   "execution_count": 1,
   "id": "d5aa86ca-5567-4d8d-99c5-a97e3717cefa",
   "metadata": {},
   "outputs": [],
   "source": [
    "from pyspark.sql import SparkSession\n",
    "from spark_config import configure_spark_session"
   ]
  },
  {
   "cell_type": "code",
   "execution_count": 2,
   "id": "b591d937-2ef8-47fe-b8b5-d8f32355b2ba",
   "metadata": {},
   "outputs": [],
   "source": [
    "# Stop any existing spark sessions, from previous jupyter runs\n",
    "spark = SparkSession.builder.getOrCreate()\n",
    "spark.stop()\n",
    "\n",
    "# Create a new spark session\n",
    "builder = SparkSession.builder\n",
    "builder.appName(\"silver\")\n",
    "builder.master(\"spark://spark-master:7077\")\n",
    "\n",
    "# Apply common spark configs, for the bronze catalog and access to minio\n",
    "configure_spark_session(builder)\n",
    "\n",
    "spark = builder.getOrCreate()"
   ]
  },
  {
   "cell_type": "code",
   "execution_count": 3,
   "id": "d770b80d-c010-4336-9c79-039161cdec35",
   "metadata": {},
   "outputs": [
    {
     "data": {
      "text/plain": [
       "DataFrame[]"
      ]
     },
     "execution_count": 3,
     "metadata": {},
     "output_type": "execute_result"
    }
   ],
   "source": [
    "spark.sql(\"\"\"\n",
    "    CREATE SCHEMA IF NOT EXISTS example.silver\n",
    "    LOCATION 's3a://silver'\n",
    "\"\"\")"
   ]
  },
  {
   "cell_type": "code",
   "execution_count": 5,
   "id": "183c7ddf-574a-4e6a-af8b-fadef38b92da",
   "metadata": {},
   "outputs": [
    {
     "data": {
      "text/plain": [
       "DataFrame[]"
      ]
     },
     "execution_count": 5,
     "metadata": {},
     "output_type": "execute_result"
    }
   ],
   "source": [
    "spark.sql(\"\"\"\n",
    "CREATE TABLE IF NOT EXISTS example.silver.page_load (\n",
    "    event_name STRING,\n",
    "    event_version STRING,\n",
    "    event_ts TIMESTAMP,\n",
    "    page STRING,\n",
    "    user_name STRING,\n",
    "    browser STRING\n",
    ")\n",
    "USING ICEBERG\n",
    "\"\"\")"
   ]
  },
  {
   "cell_type": "code",
   "execution_count": 6,
   "id": "0e62207e-427b-46d4-b34f-2f31b3ef3750",
   "metadata": {},
   "outputs": [
    {
     "name": "stderr",
     "output_type": "stream",
     "text": [
      "                                                                                "
     ]
    },
    {
     "name": "stdout",
     "output_type": "stream",
     "text": [
      "+----------+-------------+--------------------+---------+------------------+-------+\n",
      "|event_name|event_version|            event_ts|     page|         user_name|browser|\n",
      "+----------+-------------+--------------------+---------+------------------+-------+\n",
      "| page_load|           v1|2025-03-27 00:59:...|    /home|    Joseph Fischer|   Edge|\n",
      "| page_load|           v1|2025-03-27 01:16:...|    /home|    Joseph Fischer|   Edge|\n",
      "| page_load|           v1|2025-03-27 01:23:...|    /home|       Jason Hayes|Firefox|\n",
      "| page_load|           v1|2025-03-27 01:28:...| /contact|        Joan Scott|Firefox|\n",
      "| page_load|           v1|2025-03-27 01:45:...|    /home|        Joan Scott| Chrome|\n",
      "| page_load|           v1|2025-03-27 01:49:...|    /cart|  Alexandra Morgan| Safari|\n",
      "| page_load|           v1|2025-03-27 02:19:...|/checkout|Patricia Patterson|   Edge|\n",
      "| page_load|           v1|2025-03-27 02:30:...|/checkout|    Joseph Fischer|Firefox|\n",
      "| page_load|           v1|2025-03-27 02:47:...|/checkout|     Damon Bennett|Firefox|\n",
      "| page_load|           v1|2025-03-27 02:53:...| /contact|Patricia Patterson|Firefox|\n",
      "| page_load|           v1|2025-03-27 03:06:...| /contact|Patricia Patterson|Firefox|\n",
      "| page_load|           v1|2025-03-27 03:17:...|   /about|     Cynthia Brock|Firefox|\n",
      "| page_load|           v1|2025-03-27 03:23:...|    /cart|Patricia Patterson|   Edge|\n",
      "| page_load|           v1|2025-03-27 03:32:...|    /home|       Gary Morris|Firefox|\n",
      "| page_load|           v1|2025-03-27 03:37:...|    /home|  Alexandra Morgan|   NULL|\n",
      "| page_load|           v1|2025-03-27 03:37:...|    /home|        Joan Scott| Safari|\n",
      "| page_load|           v1|2025-03-27 03:59:...|    /home|       Jason Hayes|   Edge|\n",
      "| page_load|           v1|2025-03-27 04:20:...|    /home|      Marissa Long|Firefox|\n",
      "| page_load|           v1|2025-03-27 04:25:...|    /home|      Marissa Long|Firefox|\n",
      "| page_load|           v1|2025-03-27 04:35:...|   /about|       Lee Hawkins|   Edge|\n",
      "+----------+-------------+--------------------+---------+------------------+-------+\n",
      "only showing top 20 rows\n",
      "\n",
      "Number of rows 1000\n"
     ]
    }
   ],
   "source": [
    "# Rename and typecast bronze columns into the silver schema\n",
    "df = spark.sql(f\"\"\"\n",
    "SELECT\n",
    "    metadata.name AS event_name,\n",
    "    metadata.version AS event_version,\n",
    "    CAST(metadata.timestamp AS TIMESTAMP) AS event_ts,\n",
    "    payload.page AS page,\n",
    "    payload.user_name AS user_name,\n",
    "    payload.browser AS browser\n",
    "FROM example.bronze.page_load_v1\n",
    "ORDER BY event_ts\n",
    "\"\"\")\n",
    "df.show()\n",
    "print(f\"Number of rows {df.count()}\")"
   ]
  },
  {
   "cell_type": "code",
   "execution_count": 7,
   "id": "9c7ada98-777d-4636-89f9-52a0b0b51982",
   "metadata": {},
   "outputs": [
    {
     "name": "stdout",
     "output_type": "stream",
     "text": [
      "+----------+-------------+--------------------+---------+------------------+-------+\n",
      "|event_name|event_version|            event_ts|     page|         user_name|browser|\n",
      "+----------+-------------+--------------------+---------+------------------+-------+\n",
      "| page_load|           v1|2025-03-31 01:45:...|   /about|     Cynthia Brock|Firefox|\n",
      "| page_load|           v1|2025-03-29 10:09:...|/products|       Lee Hawkins|Firefox|\n",
      "| page_load|           v1|2025-03-31 14:31:...|/checkout|     Damon Bennett| Chrome|\n",
      "| page_load|           v1|2025-03-30 08:02:...|    /home|     Cynthia Brock|Firefox|\n",
      "| page_load|           v1|2025-04-01 16:23:...|/products|     Cynthia Brock|   Edge|\n",
      "| page_load|           v1|2025-03-31 17:48:...|    /home|      Chad Nichols|   Edge|\n",
      "| page_load|           v1|2025-03-31 21:23:...|    /home|     Calvin Murray|Firefox|\n",
      "| page_load|           v1|2025-04-01 03:23:...| /contact|        Joan Scott|   Edge|\n",
      "| page_load|           v1|2025-04-02 06:50:...|    /home|       Jason Hayes|Firefox|\n",
      "| page_load|           v1|2025-03-30 02:27:...|   /about|Patricia Patterson| Chrome|\n",
      "| page_load|           v1|2025-04-02 20:01:...|    /home|Patricia Patterson| Safari|\n",
      "| page_load|           v1|2025-03-27 17:00:...|    /home|         Paul Chen|Firefox|\n",
      "| page_load|           v1|2025-04-01 06:51:...| /contact|  Alexandra Morgan|   Edge|\n",
      "| page_load|           v1|2025-04-02 03:26:...|    /home|      Marissa Long|Firefox|\n",
      "| page_load|           v1|2025-03-30 04:16:...|    /home|     Gregory Adams| Chrome|\n",
      "| page_load|           v1|2025-03-30 00:15:...| /contact|    Joseph Fischer|Firefox|\n",
      "| page_load|           v1|2025-03-27 02:19:...|/checkout|Patricia Patterson|   Edge|\n",
      "| page_load|           v1|2025-03-31 15:15:...|    /home|       Jason Hayes|Firefox|\n",
      "| page_load|           v1|2025-04-02 10:38:...|    /home|       Lee Hawkins|Firefox|\n",
      "| page_load|           v1|2025-04-01 00:18:...| /contact|   Amanda Thornton| Chrome|\n",
      "+----------+-------------+--------------------+---------+------------------+-------+\n",
      "only showing top 20 rows\n",
      "\n",
      "Number of rows 1000\n"
     ]
    }
   ],
   "source": [
    "# Remove any duplicate rows, because bronze jobs can cause duplication if they process the same file twice\n",
    "df = df.dropDuplicates()\n",
    "df.show()\n",
    "print(f\"Number of rows {df.count()}\")"
   ]
  },
  {
   "cell_type": "code",
   "execution_count": 9,
   "id": "31064e8a-4c47-4c4a-9a31-9f53232f865d",
   "metadata": {},
   "outputs": [
    {
     "name": "stdout",
     "output_type": "stream",
     "text": [
      "Done\n"
     ]
    }
   ],
   "source": [
    "# Write the output to the silver table\n",
    "df.write \\\n",
    "    .format(\"iceberg\") \\\n",
    "    .mode(\"overwrite\") \\\n",
    "    .saveAsTable(\"example.silver.page_load\")\n",
    "print('Done')"
   ]
  },
  {
   "cell_type": "code",
   "execution_count": 10,
   "id": "150433b9-3dbf-43b3-910b-022dfdaebd8e",
   "metadata": {},
   "outputs": [],
   "source": [
    "spark.stop()"
   ]
  },
  {
   "cell_type": "code",
   "execution_count": null,
   "id": "54fb8d67-c09b-4a38-bc2e-4bcd5304d243",
   "metadata": {},
   "outputs": [],
   "source": []
  }
 ],
 "metadata": {
  "kernelspec": {
   "display_name": "Python 3 (ipykernel)",
   "language": "python",
   "name": "python3"
  },
  "language_info": {
   "codemirror_mode": {
    "name": "ipython",
    "version": 3
   },
   "file_extension": ".py",
   "mimetype": "text/x-python",
   "name": "python",
   "nbconvert_exporter": "python",
   "pygments_lexer": "ipython3",
   "version": "3.11.2"
  }
 },
 "nbformat": 4,
 "nbformat_minor": 5
}
